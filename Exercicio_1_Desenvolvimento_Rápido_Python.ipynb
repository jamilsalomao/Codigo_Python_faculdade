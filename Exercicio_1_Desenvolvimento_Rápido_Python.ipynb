{
  "nbformat": 4,
  "nbformat_minor": 0,
  "metadata": {
    "colab": {
      "provenance": [],
      "include_colab_link": true
    },
    "kernelspec": {
      "name": "python3",
      "display_name": "Python 3"
    },
    "language_info": {
      "name": "python"
    }
  },
  "cells": [
    {
      "cell_type": "markdown",
      "metadata": {
        "id": "view-in-github",
        "colab_type": "text"
      },
      "source": [
        "<a href=\"https://colab.research.google.com/github/jamilsalomao/Codigo_Python_faculdade/blob/main/Exercicio_1_Desenvolvimento_R%C3%A1pido_Python.ipynb\" target=\"_parent\"><img src=\"https://colab.research.google.com/assets/colab-badge.svg\" alt=\"Open In Colab\"/></a>"
      ]
    },
    {
      "cell_type": "markdown",
      "source": [
        "1)Crie uma função que recebe um nome como parâmetro e exibe em tela uma mensagem de boas-vindas. O nome deve ser fornecido pelo usuário, incorporado na mensagem de boas-vindas da função;"
      ],
      "metadata": {
        "id": "bDpfCe9zdY8V"
      }
    },
    {
      "cell_type": "code",
      "execution_count": 1,
      "metadata": {
        "colab": {
          "base_uri": "https://localhost:8080/"
        },
        "id": "KX1YpDyeb48m",
        "outputId": "68b3a964-aad4-49d5-d327-c3d349afb467"
      },
      "outputs": [
        {
          "output_type": "stream",
          "name": "stdout",
          "text": [
            "Por favor, digite seu nome: jamil\n",
            "Bem-vindo(a), jamil ! boa aula!\n"
          ]
        }
      ],
      "source": [
        "def mensagem_boas_vindas():\n",
        "\n",
        "    nome_usuario = input(\"Por favor, digite seu nome: \")\n",
        "    if nome_usuario:\n",
        "      print(\"Bem-vindo(a),\", nome_usuario, \"! boa aula!\")\n",
        "    else:\n",
        "      print(\"Seu nome não foi digitado!\")\n",
        "    return\n",
        "\n",
        "\n",
        "\n",
        "\n",
        "mensagem_boas_vindas()\n"
      ]
    },
    {
      "cell_type": "markdown",
      "source": [
        "2)Crie uma função que recebe um valor digitado pelo usuário e eleva esse valor ao quadrado;"
      ],
      "metadata": {
        "id": "F7hW-FqIdWYt"
      }
    },
    {
      "cell_type": "code",
      "source": [
        "def elevar_ao_quadrado(numero):\n",
        "   return numero ** 2\n",
        "valor = float(input(\"Digite um número: \"))\n",
        "resultado = elevar_ao_quadrado(valor)\n",
        "print(\"O quadrado de\", valor,\"é\", resultado)\n"
      ],
      "metadata": {
        "colab": {
          "base_uri": "https://localhost:8080/"
        },
        "id": "UyhHS-8QeAHP",
        "outputId": "288fbb94-e32c-4e32-aeeb-3f5b72d13025"
      },
      "execution_count": null,
      "outputs": [
        {
          "output_type": "stream",
          "name": "stdout",
          "text": [
            "Digite um número: 16\n",
            "O quadrado de 16.0 é 256.0\n"
          ]
        }
      ]
    },
    {
      "cell_type": "markdown",
      "source": [
        "3)Crie uma função com dois parâmetros relacionados ao nome e sobrenome de uma pessoa, a função deve retornar uma mensagem de boas-vindas e esses dados devem ser digitados pelo usuário"
      ],
      "metadata": {
        "id": "loanez1AgOAh"
      }
    },
    {
      "cell_type": "code",
      "source": [
        "def mensagem_boas_vindas():\n",
        "\n",
        "    nome_usuario = input(\"Por favor, digite seu nome: \")\n",
        "    sobrenome_usuario = input(\"Por favor, digite seu sobrenome: \")\n",
        "    if nome_usuario or sobrenome_usuario:\n",
        "      print(\"Bem-vindo(a),\", nome_usuario,sobrenome_usuario,  \"! boa aula!\")\n",
        "    else:\n",
        "      print(\"Seu nome não foi digitado!\")\n",
        "    return\n",
        "\n",
        "\n",
        "\n",
        "mensagem_boas_vindas()"
      ],
      "metadata": {
        "colab": {
          "base_uri": "https://localhost:8080/"
        },
        "id": "sRw1wzPQgnTY",
        "outputId": "8538f822-b6bf-4cd7-d3e1-31a074fec07f"
      },
      "execution_count": null,
      "outputs": [
        {
          "output_type": "stream",
          "name": "stdout",
          "text": [
            "Por favor, digite seu nome: jamil\n",
            "Por favor, digite seu sobrenome: salomão\n",
            "Bem-vindo(a), jamil salomão ! boa aula!\n"
          ]
        }
      ]
    },
    {
      "cell_type": "markdown",
      "source": [
        "4)Crie uma função de números de parâmetros indefinido, que realiza a soma dos números repassados como parâmetro, independente da quantidade de números"
      ],
      "metadata": {
        "id": "-Wy2FqiRISn6"
      }
    },
    {
      "cell_type": "code",
      "source": [
        "def somar(nums):\n",
        "\n",
        "    if not nums:\n",
        "        print(\"Nenhum número foi fornecido para soma.\")\n",
        "    else:\n",
        "\n",
        "        print(f\"A soma dos números fornecidos é: {sum(nums)}\")\n",
        "\n",
        "def pegar_nums_usuario():\n",
        "\n",
        "    lista_de_numeros = []\n",
        "\n",
        "    while True:\n",
        "        try:\n",
        "\n",
        "            quantidade_nums = int(input(\"Digite a quantidade de números para somar: \"))\n",
        "\n",
        "\n",
        "            for i in range(1, quantidade_nums + 1):\n",
        "                num = float(input(f\"Digite o {i}º número: \"))\n",
        "                lista_de_numeros.append(num)\n",
        "                print(f\"Número {num} adicionado!\")\n",
        "\n",
        "            opcao = input(\"Caso deseje parar de inserir números, digite 's' para sim, qualquer outra tecla para continuar: \").strip()\n",
        "\n",
        "            if opcao.lower() == 's':\n",
        "                return lista_de_numeros\n",
        "\n",
        "        except ValueError as e:\n",
        "            print(\"O valor digitado está incorreto!\", e)\n",
        "            continue\n",
        "\n",
        "numeros_para_somar = pegar_nums_usuario()\n",
        "\n",
        "somar(numeros_para_somar)\n"
      ],
      "metadata": {
        "colab": {
          "base_uri": "https://localhost:8080/"
        },
        "id": "IIOdEJINIk_S",
        "outputId": "10940aba-94f7-4e08-ca50-2fa9d47097bf"
      },
      "execution_count": null,
      "outputs": [
        {
          "output_type": "stream",
          "name": "stdout",
          "text": [
            "Digite a quantidade de números para somar: 3\n",
            "Digite o 1º número: 13\n",
            "Número 13.0 adicionado!\n",
            "Digite o 2º número: 15\n",
            "Número 15.0 adicionado!\n",
            "Digite o 3º número: 14\n",
            "Número 14.0 adicionado!\n",
            "Caso deseje parar de inserir números, digite 's' para sim, qualquer outra tecla para continuar: s\n",
            "A soma dos números fornecidos é: 42.0\n"
          ]
        }
      ]
    }
  ]
}